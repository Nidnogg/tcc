{
 "cells": [
  {
   "cell_type": "markdown",
   "id": "f67f2396",
   "metadata": {},
   "source": [
    "# ML-based-WAF Classifier\n",
    "\n",
    "This notebook trains a WAF model with the [SQL Injection Dataset from Kaggle](https://www.kaggle.com/datasets/syedsaqlainhussain/sql-injection-dataset), based off vladan stojnic's open source [ML-based-WAF](https://github.com/vladan-stojnic/ML-based-WAF) implementation.\n",
    "\n",
    "Tested classifier types: \n",
    "* Non-Linear SVM classifier;\n",
    "* Stochastic Gradient Descent\n",
    "\n",
    "WARNING: Only works with conda env set to mlWaf (provided in /deps/conda_envs)."
   ]
  },
  {
   "cell_type": "markdown",
   "id": "2f2695f4",
   "metadata": {},
   "source": [
    "#### Library imports\n"
   ]
  },
  {
   "cell_type": "code",
   "execution_count": 9,
   "id": "8fbf7b69",
   "metadata": {},
   "outputs": [],
   "source": [
    "import shutup\n",
    "shutup.please()\n",
    "import pandas as pd\n",
    "import numpy as np\n",
    "import matplotlib.pyplot as plt\n",
    "import joblib\n",
    "from sklearn.feature_extraction.text import TfidfVectorizer\n",
    "from sklearn.svm import SVC\n",
    "from sklearn.linear_model import SGDClassifier\n",
    "from sklearn.pipeline import make_pipeline\n",
    "from sklearn.model_selection import GridSearchCV, train_test_split\n",
    "from sklearn.metrics import classification_report\n",
    "from sklearn.metrics import confusion_matrix\n"
   ]
  },
  {
   "cell_type": "code",
   "execution_count": 10,
   "id": "58c4914d",
   "metadata": {},
   "outputs": [
    {
     "data": {
      "text/html": [
       "<div>\n",
       "<style scoped>\n",
       "    .dataframe tbody tr th:only-of-type {\n",
       "        vertical-align: middle;\n",
       "    }\n",
       "\n",
       "    .dataframe tbody tr th {\n",
       "        vertical-align: top;\n",
       "    }\n",
       "\n",
       "    .dataframe thead th {\n",
       "        text-align: right;\n",
       "    }\n",
       "</style>\n",
       "<table border=\"1\" class=\"dataframe\">\n",
       "  <thead>\n",
       "    <tr style=\"text-align: right;\">\n",
       "      <th></th>\n",
       "      <th>pattern</th>\n",
       "      <th>type</th>\n",
       "    </tr>\n",
       "  </thead>\n",
       "  <tbody>\n",
       "    <tr>\n",
       "      <th>0</th>\n",
       "      <td>\" or pg_sleep  (  __TIME__  )  --</td>\n",
       "      <td>sqli</td>\n",
       "    </tr>\n",
       "    <tr>\n",
       "      <th>1</th>\n",
       "      <td>create user name identified by pass123 tempora...</td>\n",
       "      <td>sqli</td>\n",
       "    </tr>\n",
       "    <tr>\n",
       "      <th>2</th>\n",
       "      <td>AND 1  =  utl_inaddr.get_host_address   (    ...</td>\n",
       "      <td>sqli</td>\n",
       "    </tr>\n",
       "    <tr>\n",
       "      <th>3</th>\n",
       "      <td>select * from users where id  =  '1' or @ @1 ...</td>\n",
       "      <td>sqli</td>\n",
       "    </tr>\n",
       "    <tr>\n",
       "      <th>4</th>\n",
       "      <td>select * from users where id  =  1 or 1#\"  ( ...</td>\n",
       "      <td>sqli</td>\n",
       "    </tr>\n",
       "    <tr>\n",
       "      <th>...</th>\n",
       "      <td>...</td>\n",
       "      <td>...</td>\n",
       "    </tr>\n",
       "    <tr>\n",
       "      <th>40525</th>\n",
       "      <td>DELETE FROM door WHERE grow = 'small'</td>\n",
       "      <td>valid</td>\n",
       "    </tr>\n",
       "    <tr>\n",
       "      <th>40526</th>\n",
       "      <td>DELETE FROM tomorrow</td>\n",
       "      <td>valid</td>\n",
       "    </tr>\n",
       "    <tr>\n",
       "      <th>40527</th>\n",
       "      <td>SELECT wide ( s )  FROM west</td>\n",
       "      <td>valid</td>\n",
       "    </tr>\n",
       "    <tr>\n",
       "      <th>40528</th>\n",
       "      <td>SELECT * FROM  ( SELECT slide FROM breath )</td>\n",
       "      <td>valid</td>\n",
       "    </tr>\n",
       "    <tr>\n",
       "      <th>40529</th>\n",
       "      <td>SELECT TOP 3 * FROM race</td>\n",
       "      <td>valid</td>\n",
       "    </tr>\n",
       "  </tbody>\n",
       "</table>\n",
       "<p>40530 rows × 2 columns</p>\n",
       "</div>"
      ],
      "text/plain": [
       "                                                 pattern   type\n",
       "0                      \" or pg_sleep  (  __TIME__  )  --   sqli\n",
       "1      create user name identified by pass123 tempora...   sqli\n",
       "2       AND 1  =  utl_inaddr.get_host_address   (    ...   sqli\n",
       "3       select * from users where id  =  '1' or @ @1 ...   sqli\n",
       "4       select * from users where id  =  1 or 1#\"  ( ...   sqli\n",
       "...                                                  ...    ...\n",
       "40525              DELETE FROM door WHERE grow = 'small'  valid\n",
       "40526                               DELETE FROM tomorrow  valid\n",
       "40527                       SELECT wide ( s )  FROM west  valid\n",
       "40528       SELECT * FROM  ( SELECT slide FROM breath )   valid\n",
       "40529                           SELECT TOP 3 * FROM race  valid\n",
       "\n",
       "[40530 rows x 2 columns]"
      ]
     },
     "execution_count": 10,
     "metadata": {},
     "output_type": "execute_result"
    }
   ],
   "source": [
    "data_df = pd.read_json('~/localdev/tcc/datasets/kaggle/SQLiV5.json' , orient='records')\n",
    "data_df"
   ]
  },
  {
   "cell_type": "code",
   "execution_count": 11,
   "id": "ec894bc9",
   "metadata": {},
   "outputs": [
    {
     "name": "stdout",
     "output_type": "stream",
     "text": [
      "sqli     21013\n",
      "valid    19517\n",
      "Name: type, dtype: int64\n"
     ]
    },
    {
     "data": {
      "text/plain": [
       "<AxesSubplot:ylabel='type'>"
      ]
     },
     "execution_count": 11,
     "metadata": {},
     "output_type": "execute_result"
    },
    {
     "data": {
      "image/png": "[encoded data removed]",
      "text/plain": [
       "<Figure size 360x360 with 1 Axes>"
      ]
     },
     "metadata": {},
     "output_type": "display_data"
    }
   ],
   "source": [
    "counts = data_df['type'].value_counts()\n",
    "print(counts)\n",
    "counts.plot.pie(figsize=(5, 5))"
   ]
  },
  {
   "cell_type": "markdown",
   "id": "d5261cab",
   "metadata": {},
   "source": [
    "#### Split into training and testing labels\n"
   ]
  },
  {
   "cell_type": "code",
   "execution_count": 12,
   "id": "895415b9",
   "metadata": {},
   "outputs": [],
   "source": [
    "X = data_df['pattern'].to_numpy().astype(str)\n",
    "y = data_df['type'].to_numpy().astype(str)    \n",
    "trainX, testX, trainY, testY = train_test_split(X, y, test_size = 0.25, random_state = 42, stratify = y)"
   ]
  },
  {
   "cell_type": "markdown",
   "id": "80b2f7e7",
   "metadata": {},
   "source": [
    "#### Prepare for GridSearchCV classification for best params based on Classifier type\n",
    "Note - Linear with ngram range [1,4] seems to peform slightly worse than rbf kernel with ngram_range [1,2]."
   ]
  },
  {
   "cell_type": "code",
   "execution_count": null,
   "id": "e2f68f63",
   "metadata": {
    "scrolled": true
   },
   "outputs": [],
   "source": [
    "pipe = make_pipeline(\n",
    "    TfidfVectorizer(input = 'content', lowercase = True, analyzer = 'char', max_features = 1024), \n",
    "    SVC())\n",
    "param_grid = {'tfidfvectorizer__ngram_range': [(1, 1), (1, 2), (1, 4)], \n",
    "              'svc__C': [1, 10], 'svc__kernel': ['linear', 'rbf']}  \n",
    "grid = GridSearchCV(pipe, param_grid, cv = 2, verbose = 4, n_jobs=4)\n",
    "grid.fit(trainX, trainY)\n",
    "grid.best_params_"
   ]
  },
  {
   "cell_type": "markdown",
   "id": "880d3e49",
   "metadata": {},
   "source": [
    "#### 1. Train model with best params\n",
    "Found by experimenting with top results from GridSearchCV run"
   ]
  },
  {
   "cell_type": "code",
   "execution_count": 13,
   "id": "8d08863c",
   "metadata": {},
   "outputs": [
    {
     "data": {
      "text/plain": [
       "0.9978288759498668"
      ]
     },
     "execution_count": 13,
     "metadata": {},
     "output_type": "execute_result"
    }
   ],
   "source": [
    "pipe = make_pipeline(\n",
    "    TfidfVectorizer(input = 'content', lowercase = True, analyzer = 'char', max_features = 1024, ngram_range = (1, 2)), \n",
    "    SVC(C = 10, kernel = 'rbf', probability=True, gamma='scale'))\n",
    "pipe.fit(trainX, trainY)\n",
    "pipe.score(testX, testY)"
   ]
  },
  {
   "cell_type": "code",
   "execution_count": null,
   "id": "1418d1e7",
   "metadata": {
    "collapsed": true
   },
   "outputs": [],
   "source": []
  },
  {
   "cell_type": "code",
   "execution_count": 7,
   "id": "e67ca9e7",
   "metadata": {},
   "outputs": [
    {
     "data": {
      "text/plain": [
       "0.9998684080665855"
      ]
     },
     "execution_count": 7,
     "metadata": {},
     "output_type": "execute_result"
    }
   ],
   "source": [
    "pipe.score(trainX, trainY)"
   ]
  },
  {
   "cell_type": "markdown",
   "id": "f67365e8",
   "metadata": {},
   "source": [
    "#### 2. Train model with suggested GridSearch optimal params\n",
    "**WARNING** do not run this cell if the previous cell has been executed!\n",
    "\n",
    "Uses best result from GridSearchCV run - however the performance is slightly worse."
   ]
  },
  {
   "cell_type": "code",
   "execution_count": 18,
   "id": "3b767faf",
   "metadata": {},
   "outputs": [
    {
     "data": {
      "text/plain": [
       "0.9968895800933126"
      ]
     },
     "execution_count": 18,
     "metadata": {},
     "output_type": "execute_result"
    }
   ],
   "source": [
    "pipe = make_pipeline(\n",
    "    TfidfVectorizer(input = 'content', lowercase = True, analyzer = 'char', max_features = 1024, ngram_range = (1, 4)), \n",
    "    SVC(C = 10, kernel = 'linear', probability=True, gamma='scale'))\n",
    "pipe.fit(trainX, trainY)\n",
    "pipe.score(testX, testY)"
   ]
  },
  {
   "cell_type": "code",
   "execution_count": 30,
   "id": "864cabfc",
   "metadata": {},
   "outputs": [
    {
     "name": "stdout",
     "output_type": "stream",
     "text": [
      "              precision    recall  f1-score   support\n",
      "\n",
      "        sqli       1.00      1.00      1.00      5254\n",
      "       valid       1.00      1.00      1.00      4879\n",
      "\n",
      "    accuracy                           1.00     10133\n",
      "   macro avg       1.00      1.00      1.00     10133\n",
      "weighted avg       1.00      1.00      1.00     10133\n",
      "\n",
      "[[5235   19]\n",
      " [   3 4876]]\n"
     ]
    }
   ],
   "source": [
    "predY = pipe.predict(testX)\n",
    "print(classification_report(testY, predY))\n",
    "print(confusion_matrix(testY, predY))"
   ]
  },
  {
   "cell_type": "code",
   "execution_count": 31,
   "id": "4ba3b5da",
   "metadata": {},
   "outputs": [
    {
     "data": {
      "text/plain": [
       "['test_svc_classifier_extra_moled.dump']"
      ]
     },
     "execution_count": 31,
     "metadata": {},
     "output_type": "execute_result"
    }
   ],
   "source": [
    "joblib.dump(pipe, 'test_svc_classifier.dump')"
   ]
  },
  {
   "cell_type": "markdown",
   "id": "d2bd3774",
   "metadata": {},
   "source": [
    "#### WAF-A-MoLE query testing\n",
    "For testing with and without WAF queries in dataset."
   ]
  },
  {
   "cell_type": "code",
   "execution_count": 32,
   "id": "493641f3",
   "metadata": {},
   "outputs": [
    {
     "name": "stdout",
     "output_type": "stream",
     "text": [
      "Testing query aDMiN'!!, OR  ;](sELeCt 9)=6O8 or\\{6, OR  fAlsE}ANd true Or[FALSE?anD TRUe And trUe+and TrUe Or FalSe  OR  False#7xFKSipgJo; for SQL Injection\n",
      "type assumed: ['sqli']\n",
      "probability of being SQL injection is: 0.7964570358168855\n"
     ]
    }
   ],
   "source": [
    "clf = joblib.load('test_svc_classifier_extra_moled.dump')\n",
    "# query = \"admin'   OR   5o8x4x4o0o1=0o4o2b4b4o0b60#\"\n",
    "query = \"aDMiN'!!, OR  ;](sELeCt 9)=6O8 or\\{6, OR  fAlsE}ANd true Or[FALSE?anD TRUe And trUe+and TrUe Or FalSe  OR  False#7xFKSipgJo;\"\n",
    "print(\"Testing query {} for SQL Injection\".format(query))\n",
    "print(\"type assumed: {}\".format(clf.predict([query])))\n",
    "print(\"probability of being SQL injection is: {}\".format(clf.predict_proba([query])[0,0]))"
   ]
  },
  {
   "cell_type": "code",
   "execution_count": 12,
   "id": "1b52e816",
   "metadata": {},
   "outputs": [
    {
     "name": "stdout",
     "output_type": "stream",
     "text": [
      "Testing query aDMiN'!!, OR  ;](sELeCt 9)=6O8 or\\{6, OR  fAlsE}ANd true Or[FALSE?anD TRUe And trUe+and TrUe Or FalSe  OR  False#7xFKSipgJo; for SQL Injection\n",
      "type assumed: ['valid']\n",
      "probability of being SQL injection is: 0.4547222533415284\n"
     ]
    }
   ],
   "source": [
    "clf = joblib.load('test_svc_classifier_moled.dump')\n",
    "# query = \"admin'   OR   5o8x4x4o0o1=0o4o2b4b4o0b60#\"\n",
    "query = \"aDMiN'!!, OR  ;](sELeCt 9)=6O8 or\\{6, OR  fAlsE}ANd true Or[FALSE?anD TRUe And trUe+and TrUe Or FalSe  OR  False#7xFKSipgJo;\"\n",
    "print(\"Testing query {} for SQL Injection\".format(query))\n",
    "print(\"type assumed: {}\".format(clf.predict([query])))\n",
    "print(\"probability of being SQL injection is: {}\".format(clf.predict_proba([query])[0,0]))"
   ]
  }
 ],
 "metadata": {
  "kernelspec": {
   "display_name": "Python 3 (ipykernel)",
   "language": "python",
   "name": "python3"
  },
  "language_info": {
   "codemirror_mode": {
    "name": "ipython",
    "version": 3
   },
   "file_extension": ".py",
   "mimetype": "text/x-python",
   "name": "python",
   "nbconvert_exporter": "python",
   "pygments_lexer": "ipython3",
   "version": "3.8.13"
  }
 },
 "nbformat": 4,
 "nbformat_minor": 5
}
